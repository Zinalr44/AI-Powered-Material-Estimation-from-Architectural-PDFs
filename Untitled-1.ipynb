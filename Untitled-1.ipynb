{
 "cells": [
  {
   "cell_type": "code",
   "execution_count": 1,
   "metadata": {},
   "outputs": [
    {
     "name": "stdout",
     "output_type": "stream",
     "text": [
      "Defaulting to user installation because normal site-packages is not writeable\n",
      "Requirement already satisfied: ezdxf in c:\\users\\dell.com\\appdata\\local\\packages\\pythonsoftwarefoundation.python.3.13_qbz5n2kfra8p0\\localcache\\local-packages\\python313\\site-packages (1.4.0)\n",
      "Requirement already satisfied: pdfplumber in c:\\users\\dell.com\\appdata\\local\\packages\\pythonsoftwarefoundation.python.3.13_qbz5n2kfra8p0\\localcache\\local-packages\\python313\\site-packages (0.11.5)\n",
      "Requirement already satisfied: pytesseract in c:\\users\\dell.com\\appdata\\local\\packages\\pythonsoftwarefoundation.python.3.13_qbz5n2kfra8p0\\localcache\\local-packages\\python313\\site-packages (0.3.13)\n",
      "Requirement already satisfied: groq in c:\\users\\dell.com\\appdata\\local\\packages\\pythonsoftwarefoundation.python.3.13_qbz5n2kfra8p0\\localcache\\local-packages\\python313\\site-packages (0.19.0)\n",
      "Requirement already satisfied: pandas in c:\\users\\dell.com\\appdata\\local\\packages\\pythonsoftwarefoundation.python.3.13_qbz5n2kfra8p0\\localcache\\local-packages\\python313\\site-packages (2.2.3)\n",
      "Requirement already satisfied: pdf2image in c:\\users\\dell.com\\appdata\\local\\packages\\pythonsoftwarefoundation.python.3.13_qbz5n2kfra8p0\\localcache\\local-packages\\python313\\site-packages (1.17.0)\n",
      "Requirement already satisfied: pyparsing>=2.0.1 in c:\\users\\dell.com\\appdata\\local\\packages\\pythonsoftwarefoundation.python.3.13_qbz5n2kfra8p0\\localcache\\local-packages\\python313\\site-packages (from ezdxf) (3.2.1)\n",
      "Requirement already satisfied: typing_extensions>=4.6.0 in c:\\users\\dell.com\\appdata\\local\\packages\\pythonsoftwarefoundation.python.3.13_qbz5n2kfra8p0\\localcache\\local-packages\\python313\\site-packages (from ezdxf) (4.12.2)\n",
      "Requirement already satisfied: numpy in c:\\users\\dell.com\\appdata\\local\\packages\\pythonsoftwarefoundation.python.3.13_qbz5n2kfra8p0\\localcache\\local-packages\\python313\\site-packages (from ezdxf) (2.2.3)\n",
      "Requirement already satisfied: fonttools in c:\\users\\dell.com\\appdata\\local\\packages\\pythonsoftwarefoundation.python.3.13_qbz5n2kfra8p0\\localcache\\local-packages\\python313\\site-packages (from ezdxf) (4.56.0)\n",
      "Requirement already satisfied: pdfminer.six==20231228 in c:\\users\\dell.com\\appdata\\local\\packages\\pythonsoftwarefoundation.python.3.13_qbz5n2kfra8p0\\localcache\\local-packages\\python313\\site-packages (from pdfplumber) (20231228)\n",
      "Requirement already satisfied: Pillow>=9.1 in c:\\users\\dell.com\\appdata\\local\\packages\\pythonsoftwarefoundation.python.3.13_qbz5n2kfra8p0\\localcache\\local-packages\\python313\\site-packages (from pdfplumber) (11.1.0)\n",
      "Requirement already satisfied: pypdfium2>=4.18.0 in c:\\users\\dell.com\\appdata\\local\\packages\\pythonsoftwarefoundation.python.3.13_qbz5n2kfra8p0\\localcache\\local-packages\\python313\\site-packages (from pdfplumber) (4.30.1)\n",
      "Requirement already satisfied: charset-normalizer>=2.0.0 in c:\\users\\dell.com\\appdata\\local\\packages\\pythonsoftwarefoundation.python.3.13_qbz5n2kfra8p0\\localcache\\local-packages\\python313\\site-packages (from pdfminer.six==20231228->pdfplumber) (3.4.1)\n",
      "Requirement already satisfied: cryptography>=36.0.0 in c:\\users\\dell.com\\appdata\\local\\packages\\pythonsoftwarefoundation.python.3.13_qbz5n2kfra8p0\\localcache\\local-packages\\python313\\site-packages (from pdfminer.six==20231228->pdfplumber) (44.0.2)\n",
      "Requirement already satisfied: packaging>=21.3 in c:\\users\\dell.com\\appdata\\local\\packages\\pythonsoftwarefoundation.python.3.13_qbz5n2kfra8p0\\localcache\\local-packages\\python313\\site-packages (from pytesseract) (24.2)\n",
      "Requirement already satisfied: anyio<5,>=3.5.0 in c:\\users\\dell.com\\appdata\\local\\packages\\pythonsoftwarefoundation.python.3.13_qbz5n2kfra8p0\\localcache\\local-packages\\python313\\site-packages (from groq) (4.8.0)\n",
      "Requirement already satisfied: distro<2,>=1.7.0 in c:\\users\\dell.com\\appdata\\local\\packages\\pythonsoftwarefoundation.python.3.13_qbz5n2kfra8p0\\localcache\\local-packages\\python313\\site-packages (from groq) (1.9.0)\n",
      "Requirement already satisfied: httpx<1,>=0.23.0 in c:\\users\\dell.com\\appdata\\local\\packages\\pythonsoftwarefoundation.python.3.13_qbz5n2kfra8p0\\localcache\\local-packages\\python313\\site-packages (from groq) (0.28.1)\n",
      "Requirement already satisfied: pydantic<3,>=1.9.0 in c:\\users\\dell.com\\appdata\\local\\packages\\pythonsoftwarefoundation.python.3.13_qbz5n2kfra8p0\\localcache\\local-packages\\python313\\site-packages (from groq) (2.10.6)\n",
      "Requirement already satisfied: sniffio in c:\\users\\dell.com\\appdata\\local\\packages\\pythonsoftwarefoundation.python.3.13_qbz5n2kfra8p0\\localcache\\local-packages\\python313\\site-packages (from groq) (1.3.1)\n",
      "Requirement already satisfied: python-dateutil>=2.8.2 in c:\\users\\dell.com\\appdata\\local\\packages\\pythonsoftwarefoundation.python.3.13_qbz5n2kfra8p0\\localcache\\local-packages\\python313\\site-packages (from pandas) (2.9.0.post0)\n",
      "Requirement already satisfied: pytz>=2020.1 in c:\\users\\dell.com\\appdata\\local\\packages\\pythonsoftwarefoundation.python.3.13_qbz5n2kfra8p0\\localcache\\local-packages\\python313\\site-packages (from pandas) (2025.1)\n",
      "Requirement already satisfied: tzdata>=2022.7 in c:\\users\\dell.com\\appdata\\local\\packages\\pythonsoftwarefoundation.python.3.13_qbz5n2kfra8p0\\localcache\\local-packages\\python313\\site-packages (from pandas) (2025.1)\n",
      "Requirement already satisfied: idna>=2.8 in c:\\users\\dell.com\\appdata\\local\\packages\\pythonsoftwarefoundation.python.3.13_qbz5n2kfra8p0\\localcache\\local-packages\\python313\\site-packages (from anyio<5,>=3.5.0->groq) (3.10)\n",
      "Requirement already satisfied: certifi in c:\\users\\dell.com\\appdata\\local\\packages\\pythonsoftwarefoundation.python.3.13_qbz5n2kfra8p0\\localcache\\local-packages\\python313\\site-packages (from httpx<1,>=0.23.0->groq) (2025.1.31)\n",
      "Requirement already satisfied: httpcore==1.* in c:\\users\\dell.com\\appdata\\local\\packages\\pythonsoftwarefoundation.python.3.13_qbz5n2kfra8p0\\localcache\\local-packages\\python313\\site-packages (from httpx<1,>=0.23.0->groq) (1.0.7)\n",
      "Requirement already satisfied: h11<0.15,>=0.13 in c:\\users\\dell.com\\appdata\\local\\packages\\pythonsoftwarefoundation.python.3.13_qbz5n2kfra8p0\\localcache\\local-packages\\python313\\site-packages (from httpcore==1.*->httpx<1,>=0.23.0->groq) (0.14.0)\n",
      "Requirement already satisfied: annotated-types>=0.6.0 in c:\\users\\dell.com\\appdata\\local\\packages\\pythonsoftwarefoundation.python.3.13_qbz5n2kfra8p0\\localcache\\local-packages\\python313\\site-packages (from pydantic<3,>=1.9.0->groq) (0.7.0)\n",
      "Requirement already satisfied: pydantic-core==2.27.2 in c:\\users\\dell.com\\appdata\\local\\packages\\pythonsoftwarefoundation.python.3.13_qbz5n2kfra8p0\\localcache\\local-packages\\python313\\site-packages (from pydantic<3,>=1.9.0->groq) (2.27.2)\n",
      "Requirement already satisfied: six>=1.5 in c:\\users\\dell.com\\appdata\\local\\packages\\pythonsoftwarefoundation.python.3.13_qbz5n2kfra8p0\\localcache\\local-packages\\python313\\site-packages (from python-dateutil>=2.8.2->pandas) (1.17.0)\n",
      "Requirement already satisfied: cffi>=1.12 in c:\\users\\dell.com\\appdata\\local\\packages\\pythonsoftwarefoundation.python.3.13_qbz5n2kfra8p0\\localcache\\local-packages\\python313\\site-packages (from cryptography>=36.0.0->pdfminer.six==20231228->pdfplumber) (1.17.1)\n",
      "Requirement already satisfied: pycparser in c:\\users\\dell.com\\appdata\\local\\packages\\pythonsoftwarefoundation.python.3.13_qbz5n2kfra8p0\\localcache\\local-packages\\python313\\site-packages (from cffi>=1.12->cryptography>=36.0.0->pdfminer.six==20231228->pdfplumber) (2.22)\n"
     ]
    }
   ],
   "source": [
    "!pip install ezdxf pdfplumber pytesseract groq pandas pdf2image\n"
   ]
  },
  {
   "cell_type": "code",
   "execution_count": 2,
   "metadata": {},
   "outputs": [
    {
     "name": "stderr",
     "output_type": "stream",
     "text": [
      "WARNING: Skipping pymupdf as it is not installed.\n",
      "WARNING: Skipping fitz as it is not installed.\n"
     ]
    }
   ],
   "source": [
    "!pip uninstall pymupdf fitz -y\n"
   ]
  },
  {
   "cell_type": "code",
   "execution_count": 3,
   "metadata": {},
   "outputs": [
    {
     "name": "stdout",
     "output_type": "stream",
     "text": [
      "Defaulting to user installation because normal site-packages is not writeable\n",
      "Collecting pymupdf\n",
      "  Using cached pymupdf-1.25.5-cp39-abi3-win_amd64.whl.metadata (3.4 kB)\n",
      "Using cached pymupdf-1.25.5-cp39-abi3-win_amd64.whl (16.6 MB)\n",
      "Installing collected packages: pymupdf\n",
      "Successfully installed pymupdf-1.25.5\n"
     ]
    }
   ],
   "source": [
    "!pip install pymupdf\n"
   ]
  },
  {
   "cell_type": "code",
   "execution_count": 4,
   "metadata": {},
   "outputs": [],
   "source": [
    "import os\n",
    "import re\n",
    "import time\n",
    "import csv\n",
    "import pandas as pd\n",
    "import fitz                   # PyMuPDF for text & vector extraction\n",
    "import pdfplumber             # For table extraction\n",
    "import pytesseract            # For OCR extraction from images\n",
    "from pdf2image import convert_from_path\n",
    "import ezdxf                 # For DXF generation\n",
    "from groq import Groq        # For Groq query language"
   ]
  },
  {
   "cell_type": "code",
   "execution_count": 5,
   "metadata": {},
   "outputs": [],
   "source": [
    "pytesseract.pytesseract.tesseract_cmd = r\"C:\\Program Files\\Tesseract-OCR\\tesseract.exe\"  # Path to Tesseract OCR executable\n",
    "GROQ_API_KEY =# Replace with your actual API key\n",
    "client = Groq(api_key=GROQ_API_KEY)\n",
    "PDF_FILE =r\"D:\\B23-0075_250105 (1) (1).pdf\"  # Change this to your PDF file\n",
    "EXTRACTED_FOLDER = \"extracted_data\"\n",
    "\n",
    "os.makedirs(EXTRACTED_FOLDER, exist_ok=True)"
   ]
  },
  {
   "cell_type": "code",
   "execution_count": null,
   "metadata": {},
   "outputs": [],
   "source": [
    "\n",
    "# ✅ Extract Text from PDF\n",
    "def extract_text_from_pdf(pdf_path):\n",
    "    extracted_text = []\n",
    "    with fitz.open(pdf_path) as doc:\n",
    "        for page in doc:\n",
    "            text = page.get_text(\"text\")\n",
    "            if text:\n",
    "                text = re.sub(r'(?i)(contractor|permit|code compliance|construction notes|schedule).*', '', text)\n",
    "                extracted_text.append(text.strip())\n",
    "    return \"\\n\".join(extracted_text)\n",
    "\n",
    "# ✅ Extract OCR Text from Scanned PDFs\n",
    "def extract_ocr_from_pdf(pdf_path):\n",
    "    images = convert_from_path(pdf_path)\n",
    "    extracted_text = []\n",
    "    for img in images:\n",
    "        text = pytesseract.image_to_string(img)\n",
    "        extracted_text.append(text.strip())\n",
    "    return \"\\n\".join(extracted_text)\n",
    "\n",
    "# ✅ Extract Tables from PDF and Convert to Text\n",
    "def extract_tables_from_pdf(pdf_path):\n",
    "    table_text = []\n",
    "    with pdfplumber.open(pdf_path) as pdf:\n",
    "        for page in pdf.pages:\n",
    "            tables = page.extract_tables()\n",
    "            for table in tables:\n",
    "                df = pd.DataFrame(table).dropna(how=\"all\")  # Remove empty rows\n",
    "                if not df.empty:\n",
    "                    table_str = df.to_csv(index=False, header=False)  # Convert table to CSV-style text\n",
    "                    table_text.append(table_str)\n",
    "    return \"\\n\".join(table_text)\n",
    "\n",
    "# ✅ Load Extracted Data\n",
    "text_data = extract_text_from_pdf(PDF_FILE)\n",
    "ocr_data = extract_ocr_from_pdf(PDF_FILE)\n",
    "table_data = extract_tables_from_pdf(PDF_FILE)\n",
    "\n",
    "# ✅ Merge Extracted Data Before Sending to Groq\n",
    "combined_text = f\"\"\"\n",
    "EXTRACTED TEXT:\n",
    "{text_data}\n",
    "\n",
    "OCR TEXT:\n",
    "{ocr_data}\n",
    "\n",
    "TABLE DATA (Converted to Text):\n",
    "{table_data}\n",
    "\"\"\"\n",
    "\n",
    "# ✅ Save Extracted Data\n",
    "with open(os.path.join(EXTRACTED_FOLDER, \"merged_text.txt\"), \"w\", encoding=\"utf-8\") as f:\n",
    "    f.write(combined_text)\n",
    "\n",
    "print(\"Extracted Text, OCR, and Tables Merged & Saved.\")"
   ]
  },
  {
   "cell_type": "code",
   "execution_count": null,
   "metadata": {},
   "outputs": [],
   "source": [
    "def split_text(text, max_tokens=2000):\n",
    "    \"\"\"\n",
    "    Splits the text into smaller chunks to fit within Groq's token limits.\n",
    "    Ensures we don’t exceed the model's 6000 token per minute limit.\n",
    "    \"\"\"\n",
    "    words = text.split()\n",
    "    chunks = []\n",
    "    current_chunk = []\n",
    "    current_length = 0\n",
    "\n",
    "    for word in words:\n",
    "        current_chunk.append(word)\n",
    "        current_length += len(word)\n",
    "\n",
    "        if current_length >= max_tokens:\n",
    "            chunks.append(\" \".join(current_chunk))\n",
    "            current_chunk = []\n",
    "            current_length = 0\n",
    "\n",
    "    if current_chunk:\n",
    "        chunks.append(\" \".join(current_chunk))\n",
    "\n",
    "    return chunks\n",
    "\n",
    "\n",
    "def classify_rooms_with_groq(text_chunk):\n",
    "    \"\"\"\n",
    "    Uses Groq's LLaMA 3 API to extract structured room names, areas, and materials.\n",
    "    Returns structured CSV output.\n",
    "    \"\"\"\n",
    "    response = client.chat.completions.create(\n",
    "        model=\"Llama3-8b-8192\",\n",
    "        messages=[\n",
    "            {\"role\": \"system\", \"content\": \"Extract structured room-wise details from text.\"\n",
    "             \"Act like a senior architectural data extraction and construction estimation expert with over 15 years of experience analyzing PDF and CAD-based floor plans for contractors, civil engineers, and architects. Your task is to extract all construction-related materials from a provided PDF architectural floor plan with complete coverage and accuracy. Materials include, but are not limited to, MST48, HDU2, HDU3, HDU4, HDU5, HDU6, LVL (Laminated Veneer Lumber), IDF (Intermediate Distribution Frame), and Floor Joists. The extracted data must be organized by Floor, then by Room, then by Material, and formatted in strict CSV with the following columns: Floor Level, Room Name, Area (sq ft), Ceiling Height (ft), Material, Material Type, Count, Estimated Quantity, and Unit of Measure. Detect all materials symbolically or visually indicated, including structural, mechanical, hardware, and surface finishes. Classify materials into appropriate types such as Connector, Lumber, Framing, Hardware, or Fixture. For discrete components (e.g., MST, HDU, connectors, joists), count the number of visible instances per room and floor. For surface-based materials (e.g., flooring, drywall, insulation), calculate estimated quantities using area. Use 'each' for unit-based items, 'sq ft' or 'linear ft' for surface and framing elements. If any information is missing, assume the floor is 'Ground Floor', apply a ceiling height of 9 ft for residential or 12 ft for commercial, and estimate area based on standard room sizes. Structure the data clearly without duplication, ensuring each material appears once per location with accurate counts and estimates. Return only the final CSV-formatted output, with no comments or explanations.\"\n",
    "            },\n",
    "            {\"role\": \"user\", \"content\": f\"Extract structured room-wise details:\\n{text_chunk}\"}\n",
    "    \n",
    "        ]\n",
    "    )\n",
    "    return response.choices[0].message.content.strip()\n",
    "\n",
    "\n",
    "# 🔹 Split large text into smaller chunks\n",
    "text_chunks = split_text(text_data, max_tokens=2500)  # Reduce token size for safer API usage\n",
    "\n",
    "structured_data_list = []\n",
    "\n",
    "# 🔹 Process each chunk separately\n",
    "for idx, chunk in enumerate(text_chunks):\n",
    "    print(f\"Processing chunk {idx + 1}/{len(text_chunks)} with Groq...\")\n",
    "    structured_data = classify_rooms_with_groq(chunk)\n",
    "    structured_data_list.append(structured_data)\n",
    "\n",
    "# 🔹 Combine all extracted results\n",
    "structured_data_csv = \"\\n\".join(structured_data_list)\n",
    "\n",
    "# 🔹 Save extracted data properly as CSV\n",
    "csv_path = os.path.join(EXTRACTED_FOLDER, \"classified_rooms.csv\")\n",
    "\n",
    "with open(csv_path, \"w\", encoding=\"utf-8\", newline=\"\") as f:\n",
    "    f.write(\"Room Name, Floor Level, Area (sq ft), Ceiling Height (ft), Materials, Estimated Quantities\\n\")  # Add header\n",
    "    f.write(structured_data_csv)\n",
    "\n",
    "print(f\"Classified room data saved successfully at {csv_path}\")\n"
   ]
  }
 ],
 "metadata": {
  "kernelspec": {
   "display_name": "Python 3",
   "language": "python",
   "name": "python3"
  },
  "language_info": {
   "codemirror_mode": {
    "name": "ipython",
    "version": 3
   },
   "file_extension": ".py",
   "mimetype": "text/x-python",
   "name": "python",
   "nbconvert_exporter": "python",
   "pygments_lexer": "ipython3",
   "version": "3.13.2"
  }
 },
 "nbformat": 4,
 "nbformat_minor": 2
}
